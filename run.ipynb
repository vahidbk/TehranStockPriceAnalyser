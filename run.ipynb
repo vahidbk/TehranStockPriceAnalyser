{
 "cells": [
  {
   "cell_type": "markdown",
   "metadata": {},
   "source": [
    "# مقداردهی اولیه"
   ]
  },
  {
   "cell_type": "code",
   "execution_count": 1,
   "metadata": {},
   "outputs": [
    {
     "output_type": "stream",
     "name": "stdout",
     "text": "/home/me/Programming/TehranStockPriceAnalyser/Files/kavir_CandleVolume.csv\n/home/me/Programming/TehranStockPriceAnalyser/Files/kavir_RealLegal.csv\n"
    }
   ],
   "source": [
    "#%config InlineBackend.figure_format ='jpeg'\n",
    "\n",
    "url=\"http://www.tsetmc.com/Loader.aspx?ParTree=151311&i=39610074039667804#\"\n",
    "symbolName=\"kavir\"\n",
    "import os\n",
    "currentDir=os.getcwd()\n",
    "FileDirectory=currentDir+\"/Files/\""
   ]
  },
  {
   "cell_type": "markdown",
   "metadata": {},
   "source": [
    "# کندل یک نماد"
   ]
  },
  {
   "cell_type": "code",
   "execution_count": 15,
   "metadata": {},
   "outputs": [
    {
     "output_type": "execute_result",
     "data": {
      "text/plain": "            <TICKER>  <DTYYYYMMDD>  <FIRST>   <HIGH>    <LOW>  <CLOSE>  \\\n0  Sepid.Farab.Kavir      20200412  32700.0  33950.0  32000.0  33512.0   \n1  Sepid.Farab.Kavir      20200411  32000.0  32727.0  31865.0  32334.0   \n2  Sepid.Farab.Kavir      20200408  34900.0  34900.0  32500.0  33054.0   \n3  Sepid.Farab.Kavir      20200407  34013.0  34013.0  33666.0  33933.0   \n\n        <VALUE>     <VOL>  <OPENINT> <PER>   <OPEN>   <LAST>  \n0  412713752427  12315574       5759     D  32334.0  33950.0  \n1  304566923144   9419511       7220     D  33054.0  31949.0  \n2  500774254854  15150369      12932     D  33933.0  32699.0  \n3  491194589527  14475575       9952     D  32394.0  34013.0  ",
      "text/html": "<div>\n<style scoped>\n    .dataframe tbody tr th:only-of-type {\n        vertical-align: middle;\n    }\n\n    .dataframe tbody tr th {\n        vertical-align: top;\n    }\n\n    .dataframe thead th {\n        text-align: right;\n    }\n</style>\n<table border=\"1\" class=\"dataframe\">\n  <thead>\n    <tr style=\"text-align: right;\">\n      <th></th>\n      <th>&lt;TICKER&gt;</th>\n      <th>&lt;DTYYYYMMDD&gt;</th>\n      <th>&lt;FIRST&gt;</th>\n      <th>&lt;HIGH&gt;</th>\n      <th>&lt;LOW&gt;</th>\n      <th>&lt;CLOSE&gt;</th>\n      <th>&lt;VALUE&gt;</th>\n      <th>&lt;VOL&gt;</th>\n      <th>&lt;OPENINT&gt;</th>\n      <th>&lt;PER&gt;</th>\n      <th>&lt;OPEN&gt;</th>\n      <th>&lt;LAST&gt;</th>\n    </tr>\n  </thead>\n  <tbody>\n    <tr>\n      <th>0</th>\n      <td>Sepid.Farab.Kavir</td>\n      <td>20200412</td>\n      <td>32700.0</td>\n      <td>33950.0</td>\n      <td>32000.0</td>\n      <td>33512.0</td>\n      <td>412713752427</td>\n      <td>12315574</td>\n      <td>5759</td>\n      <td>D</td>\n      <td>32334.0</td>\n      <td>33950.0</td>\n    </tr>\n    <tr>\n      <th>1</th>\n      <td>Sepid.Farab.Kavir</td>\n      <td>20200411</td>\n      <td>32000.0</td>\n      <td>32727.0</td>\n      <td>31865.0</td>\n      <td>32334.0</td>\n      <td>304566923144</td>\n      <td>9419511</td>\n      <td>7220</td>\n      <td>D</td>\n      <td>33054.0</td>\n      <td>31949.0</td>\n    </tr>\n    <tr>\n      <th>2</th>\n      <td>Sepid.Farab.Kavir</td>\n      <td>20200408</td>\n      <td>34900.0</td>\n      <td>34900.0</td>\n      <td>32500.0</td>\n      <td>33054.0</td>\n      <td>500774254854</td>\n      <td>15150369</td>\n      <td>12932</td>\n      <td>D</td>\n      <td>33933.0</td>\n      <td>32699.0</td>\n    </tr>\n    <tr>\n      <th>3</th>\n      <td>Sepid.Farab.Kavir</td>\n      <td>20200407</td>\n      <td>34013.0</td>\n      <td>34013.0</td>\n      <td>33666.0</td>\n      <td>33933.0</td>\n      <td>491194589527</td>\n      <td>14475575</td>\n      <td>9952</td>\n      <td>D</td>\n      <td>32394.0</td>\n      <td>34013.0</td>\n    </tr>\n  </tbody>\n</table>\n</div>"
     },
     "metadata": {},
     "execution_count": 15
    }
   ],
   "source": [
    "def saveCandleVolumeSymbol(urlAddress, symbolName):\n",
    "    try:\n",
    "        import requests\n",
    "        urlCandleVolume=\"http://www.tsetmc.com/tsev2/data/Export-txt.aspx?t=i&a=1&b=0&i=\"+str(urlAddress)\n",
    "        response=requests.get(urlCandleVolume, headers={'User-Agent': 'Mozilla/5.0 (Windows NT 6.1; Win64; x64) AppleWebKit/537.36 (KHTML, like Gecko)Chrome/80.0.3987.132 Safari/537.36'})\n",
    "        filenameCandleVolume=FileDirectory+symbolName+\"_CandleVolume.csv\"\n",
    "        f=open(filenameCandleVolume, \"wb\")\n",
    "        f.write(response.content)\n",
    "        f.close()\n",
    "    except Exception as err:\n",
    "        print(\"Error saveCandleVolumeSymbol :\"+symbolName+err)\n",
    "\n",
    "def loadCandleVolumeSymbol(symbolName):\n",
    "    import pandas as pd\n",
    "    filenameCandleVolume=FileDirectory+symbolName+\"_CandleVolume.csv\"\n",
    "    data = pd.read_csv(filenameCandleVolume, quotechar='\"', delimiter=\",\", encoding='utf-8')\n",
    "    return data\n",
    "\n",
    "saveCandleVolumeSymbol(43545527030854340, \"kavir\")\n",
    "loadCandleVolumeSymbol(\"kavir\")[:4]\n",
    ""
   ]
  },
  {
   "cell_type": "markdown",
   "metadata": {},
   "source": [
    "# حقیقی و حقوقی"
   ],
   "execution_count": null,
   "outputs": []
  },
  {
   "cell_type": "code",
   "execution_count": 12,
   "metadata": {},
   "outputs": [
    {
     "output_type": "execute_result",
     "data": {
      "text/plain": "       Date  numberbuyReal  numberbuyLegal  numberSellReal  numberSellLegal  \\\n0  20200412           1787               7            2708                4   \n1  20200411           2206               5            3449                3   \n2  20200408           4090              12            5824               12   \n3  20200407           4172               7            3801                5   \n\n   volBuyReal  volBuyLegal  volSellReal  volSellLegal  valueBuyReal  \\\n0    11398374       917200     10431574       1884000  382700838006   \n1     6738539      2680972      8991987        427524  217908350525   \n2    13110830      2039539     14637006        513363  433621380084   \n3    12460376      2015199     12777001       1698574  423053216853   \n\n   valueBuyLegal  valueSellReal  valueSellLegal  \n0    30012914421   348838570947     63875181480  \n1    86658572619   290717766736     13849156408  \n2    67152874770   483449410969     17324843885  \n3    68141372674   433426790937     57767798590  ",
      "text/html": "<div>\n<style scoped>\n    .dataframe tbody tr th:only-of-type {\n        vertical-align: middle;\n    }\n\n    .dataframe tbody tr th {\n        vertical-align: top;\n    }\n\n    .dataframe thead th {\n        text-align: right;\n    }\n</style>\n<table border=\"1\" class=\"dataframe\">\n  <thead>\n    <tr style=\"text-align: right;\">\n      <th></th>\n      <th>Date</th>\n      <th>numberbuyReal</th>\n      <th>numberbuyLegal</th>\n      <th>numberSellReal</th>\n      <th>numberSellLegal</th>\n      <th>volBuyReal</th>\n      <th>volBuyLegal</th>\n      <th>volSellReal</th>\n      <th>volSellLegal</th>\n      <th>valueBuyReal</th>\n      <th>valueBuyLegal</th>\n      <th>valueSellReal</th>\n      <th>valueSellLegal</th>\n    </tr>\n  </thead>\n  <tbody>\n    <tr>\n      <th>0</th>\n      <td>20200412</td>\n      <td>1787</td>\n      <td>7</td>\n      <td>2708</td>\n      <td>4</td>\n      <td>11398374</td>\n      <td>917200</td>\n      <td>10431574</td>\n      <td>1884000</td>\n      <td>382700838006</td>\n      <td>30012914421</td>\n      <td>348838570947</td>\n      <td>63875181480</td>\n    </tr>\n    <tr>\n      <th>1</th>\n      <td>20200411</td>\n      <td>2206</td>\n      <td>5</td>\n      <td>3449</td>\n      <td>3</td>\n      <td>6738539</td>\n      <td>2680972</td>\n      <td>8991987</td>\n      <td>427524</td>\n      <td>217908350525</td>\n      <td>86658572619</td>\n      <td>290717766736</td>\n      <td>13849156408</td>\n    </tr>\n    <tr>\n      <th>2</th>\n      <td>20200408</td>\n      <td>4090</td>\n      <td>12</td>\n      <td>5824</td>\n      <td>12</td>\n      <td>13110830</td>\n      <td>2039539</td>\n      <td>14637006</td>\n      <td>513363</td>\n      <td>433621380084</td>\n      <td>67152874770</td>\n      <td>483449410969</td>\n      <td>17324843885</td>\n    </tr>\n    <tr>\n      <th>3</th>\n      <td>20200407</td>\n      <td>4172</td>\n      <td>7</td>\n      <td>3801</td>\n      <td>5</td>\n      <td>12460376</td>\n      <td>2015199</td>\n      <td>12777001</td>\n      <td>1698574</td>\n      <td>423053216853</td>\n      <td>68141372674</td>\n      <td>433426790937</td>\n      <td>57767798590</td>\n    </tr>\n  </tbody>\n</table>\n</div>"
     },
     "metadata": {},
     "execution_count": 12
    }
   ],
   "source": [
    "def saveRealLegal(urlAddress, symbolName):\n",
    "    try:\n",
    "        url=\"http://www.tsetmc.com/tsev2/data/clienttype.aspx?i=\"+str(urlAddress)\n",
    "        import requests\n",
    "        response=requests.get(url)\n",
    "        titleCSV=\"Date,numberbuyReal,numberbuyLegal,numberSellReal,numberSellLegal,volBuyReal,volBuyLegal,volSellReal,volSellLegal,valueBuyReal,valueBuyLegal,valueSellReal,valueSellLegal\\n\"\n",
    "        response.content[:]\n",
    "        filenameRealegal=FileDirectory+symbolName+\"_RealLegal.csv\"\n",
    "        f = open(filenameRealegal, \"w\")\n",
    "        f.write(titleCSV)\n",
    "        f.write(str(response.content)[2:-1].replace(\";\",\"\\n\"))\n",
    "        f.close()\n",
    "    except Exception as err:\n",
    "        print(\"Error saveCandleVolumeSymbol :\"+symbolName+err)\n",
    "\n",
    "def loadRealLegal(symbolName):\n",
    "    import pandas as pd\n",
    "    filenameRealegal=FileDirectory+symbolName+\"_RealLegal.csv\"\n",
    "    data = pd.read_csv(filenameRealegal, quotechar='\"', delimiter=\",\", encoding='utf-8')\n",
    "    return data\n",
    "\n",
    "saveRealLegal(43545527030854340, \"kavir\")\n",
    "loadRealLegal(\"kavir\")[:4]"
   ]
  },
  {
   "cell_type": "markdown",
   "metadata": {},
   "source": [
    "# گروه های نمادها"
   ]
  },
  {
   "cell_type": "code",
   "execution_count": 13,
   "metadata": {},
   "outputs": [
    {
     "output_type": "stream",
     "name": "stdout",
     "text": "Done\n"
    },
    {
     "output_type": "execute_result",
     "data": {
      "text/plain": "     id                                     group\n0  '01'                    'زراعت و خدمات وابسته'\n1  '02'                     'جنگلداري و ماهيگيري'\n2  '10'                        'استخراج زغال سنگ'\n3  '11'  'استخراج نفت گاز و خدمات جنبي جز اکتشاف'",
      "text/html": "<div>\n<style scoped>\n    .dataframe tbody tr th:only-of-type {\n        vertical-align: middle;\n    }\n\n    .dataframe tbody tr th {\n        vertical-align: top;\n    }\n\n    .dataframe thead th {\n        text-align: right;\n    }\n</style>\n<table border=\"1\" class=\"dataframe\">\n  <thead>\n    <tr style=\"text-align: right;\">\n      <th></th>\n      <th>id</th>\n      <th>group</th>\n    </tr>\n  </thead>\n  <tbody>\n    <tr>\n      <th>0</th>\n      <td>'01'</td>\n      <td>'زراعت و خدمات وابسته'</td>\n    </tr>\n    <tr>\n      <th>1</th>\n      <td>'02'</td>\n      <td>'جنگلداري و ماهيگيري'</td>\n    </tr>\n    <tr>\n      <th>2</th>\n      <td>'10'</td>\n      <td>'استخراج زغال سنگ'</td>\n    </tr>\n    <tr>\n      <th>3</th>\n      <td>'11'</td>\n      <td>'استخراج نفت گاز و خدمات جنبي جز اکتشاف'</td>\n    </tr>\n  </tbody>\n</table>\n</div>"
     },
     "metadata": {},
     "execution_count": 13
    }
   ],
   "source": [
    "def saveGroups():\n",
    "    groupsUrl=\"http://www.tsetmc.com/tsev2/res/loader.aspx?t=g&_464\"\n",
    "    try:\n",
    "        import requests\n",
    "        response=requests.get(groupsUrl, headers={'User-Agent': 'Mozilla/5.0 (Windows NT 6.1; Win64; x64) AppleWebKit/537.36 (KHTML, like Gecko)Chrome/80.0.3987.132 Safari/537.36'})\n",
    "        filenameGroups=FileDirectory+\"_groups.csv\"\n",
    "        f = open(filenameGroups, \"wb\")\n",
    "        data=b\"id,group\\n\"\n",
    "        data+=response.content[12:-1].replace(b\"],[\", b\"\\n\").replace(b\"[\",b\"\").replace(b\"]\",b\"\")\n",
    "        f.write(data)\n",
    "        f.close()\n",
    "        print(\"Done\")\n",
    "    except Exception as err:\n",
    "        print(\"Error:\"+str(err))\n",
    "\n",
    "def loadGroups():\n",
    "    import pandas as pd\n",
    "    data = pd.read_csv(filenameGroups, quotechar=',', delimiter=\",\", encoding='utf-8')\n",
    "    return data\n",
    "\n",
    "saveGroups()\n",
    "loadGroups()[:4]"
   ]
  },
  {
   "cell_type": "markdown",
   "metadata": {},
   "source": [
    "# تنظیم کوکی سایت تی اس سی تی ام سی"
   ]
  },
  {
   "cell_type": "code",
   "execution_count": null,
   "metadata": {},
   "outputs": [],
   "source": []
  },
  {
   "cell_type": "markdown",
   "metadata": {},
   "source": [
    "#  نمای بازار "
   ]
  },
  {
   "cell_type": "code",
   "execution_count": 18,
   "metadata": {
    "tags": [
     "outputPrepend",
     "outputPrepend",
     "outputPrepend",
     "outputPrepend",
     "outputPrepend",
     "outputPrepend",
     "outputPrepend",
     "outputPrepend",
     "outputPrepend",
     "outputPrepend",
     "outputPrepend",
     "outputPrepend",
     "outputPrepend",
     "outputPrepend",
     "outputPrepend",
     "outputPrepend",
     "outputPrepend",
     "outputPrepend",
     "outputPrepend",
     "outputPrepend",
     "outputPrepend",
     "outputPrepend",
     "outputPrepend",
     "outputPrepend",
     "outputPrepend",
     "outputPrepend",
     "outputPrepend",
     "outputPrepend",
     "outputPrepend",
     "outputPrepend",
     "outputPrepend",
     "outputPrepend",
     "outputPrepend",
     "outputPrepend",
     "outputPrepend",
     "outputPrepend",
     "outputPrepend",
     "outputPrepend",
     "outputPrepend",
     "outputPrepend",
     "outputPrepend",
     "outputPrepend",
     "outputPrepend",
     "outputPrepend",
     "outputPrepend",
     "outputPrepend",
     "outputPrepend",
     "outputPrepend",
     "outputPrepend",
     "outputPrepend",
     "outputPrepend",
     "outputPrepend",
     "outputPrepend",
     "outputPrepend",
     "outputPrepend",
     "outputPrepend",
     "outputPrepend",
     "outputPrepend",
     "outputPrepend",
     "outputPrepend",
     "outputPrepend",
     "outputPrepend",
     "outputPrepend",
     "outputPrepend",
     "outputPrepend",
     "outputPrepend",
     "outputPrepend",
     "outputPrepend"
    ]
   },
   "outputs": [
    {
     "output_type": "execute_result",
     "data": {
      "text/plain": "        URLAddress          ISIS   symbol                        company\n0  143187001116603  IRO6MELZ96C1  تملي612  تسهيلات مسكن بانك ملي-اسفند96\n1  204092872752957  IRO3SDFZ0001     شصدف                 صنعتي دوده فام\n2  318005355896147  IRO7PFSP0001      فسا                   پتروشيمي فسا\n3  350097973599097  IRO6MSKZ9751  تسه9705    امتياز تسهيلات مسكن مرداد97",
      "text/html": "<div>\n<style scoped>\n    .dataframe tbody tr th:only-of-type {\n        vertical-align: middle;\n    }\n\n    .dataframe tbody tr th {\n        vertical-align: top;\n    }\n\n    .dataframe thead th {\n        text-align: right;\n    }\n</style>\n<table border=\"1\" class=\"dataframe\">\n  <thead>\n    <tr style=\"text-align: right;\">\n      <th></th>\n      <th>URLAddress</th>\n      <th>ISIS</th>\n      <th>symbol</th>\n      <th>company</th>\n    </tr>\n  </thead>\n  <tbody>\n    <tr>\n      <th>0</th>\n      <td>143187001116603</td>\n      <td>IRO6MELZ96C1</td>\n      <td>تملي612</td>\n      <td>تسهيلات مسكن بانك ملي-اسفند96</td>\n    </tr>\n    <tr>\n      <th>1</th>\n      <td>204092872752957</td>\n      <td>IRO3SDFZ0001</td>\n      <td>شصدف</td>\n      <td>صنعتي دوده فام</td>\n    </tr>\n    <tr>\n      <th>2</th>\n      <td>318005355896147</td>\n      <td>IRO7PFSP0001</td>\n      <td>فسا</td>\n      <td>پتروشيمي فسا</td>\n    </tr>\n    <tr>\n      <th>3</th>\n      <td>350097973599097</td>\n      <td>IRO6MSKZ9751</td>\n      <td>تسه9705</td>\n      <td>امتياز تسهيلات مسكن مرداد97</td>\n    </tr>\n  </tbody>\n</table>\n</div>"
     },
     "metadata": {},
     "execution_count": 18
    }
   ],
   "source": [
    "def saveMarketWatch():\n",
    "    try:\n",
    "        marketWatchUrl=\"http://www.tsetmc.com/tsev2/data/MarketWatchInit.aspx?h=0&r=0\"\n",
    "        import requests\n",
    "        response=requests.get(marketWatchUrl, headers={'User-Agent': 'Mozilla/5.0 (Windows NT 6.1; Win64; x64) AppleWebKit/537.36 (KHTML, like Gecko)Chrome/80.0.3987.132 Safari/537.36'})\n",
    "        filenameMarketWatch=FileDirectory+\"_marketWatch.csv\"\n",
    "        f = open(filenameMarketWatch, \"wb\")\n",
    "\n",
    "        import re\n",
    "        pattern=\";([\\d{15}]+),([\\w+\\d+]{12}),((?!^\\d+?).+?),((?!^\\d+?).+?),\"\n",
    "        regularExp=re.compile(pattern)\n",
    "        regularExpResult=regularExp.findall(response.content.decode('utf-8'))\n",
    "        data=\"URLAddress,ISIS,symbol,company\\n\"\n",
    "        for row in regularExpResult:\n",
    "            for col in row:\n",
    "                data+=str(col)+','\n",
    "            data=data[:-1]\n",
    "            data+=\"\\n\"\n",
    "        data=bytes(data,'utf-8')        \n",
    "        f.write(data)\n",
    "        f.close()\n",
    "    except Exception as err:\n",
    "        print(\"Error:\"+str(err))\n",
    "\n",
    "def loadMarketWatch():\n",
    "    import pandas as pd\n",
    "    data = pd.read_csv(filenameMarketWatch, quotechar=',', delimiter=\",\", encoding='utf-8')\n",
    "    return data\n",
    "\n",
    "saveMarketWatch()\n",
    "loadMarketWatch()[:4]"
   ]
  },
  {
   "cell_type": "markdown",
   "metadata": {},
   "source": [
    "# دریافت تاریخچه کلیه نمادها"
   ]
  },
  {
   "cell_type": "code",
   "execution_count": 74,
   "metadata": {},
   "outputs": [
    {
     "output_type": "stream",
     "name": "stdout",
     "text": "Done\nCPU times: user 12.9 s, sys: 1.51 s, total: 14.4 s\nWall time: 6min 17s\n"
    }
   ],
   "source": [
    "%%time\n",
    "counter=0\n",
    "for index in range(0,len(dataMarketWatch)-1):\n",
    "    URLAddress=dataMarketWatch[\"URLAddress\"][index]\n",
    "    symbolName=dataMarketWatch[\"symbol\"][index]\n",
    "    saveCandleVolumeSymbol(URLAddress, symbolName)\n",
    "    saveRealLegal(URLAddress, symbolName)"
   ]
  }
 ],
 "metadata": {
  "file_extension": ".py",
  "kernelspec": {
   "display_name": "Python 3.6.8 64-bit",
   "language": "python",
   "name": "python36864bit02a12abe67fb40ff9203cb15eceda375"
  },
  "language_info": {
   "codemirror_mode": {
    "name": "ipython",
    "version": 3
   },
   "file_extension": ".py",
   "mimetype": "text/x-python",
   "name": "python",
   "nbconvert_exporter": "python",
   "pygments_lexer": "ipython3",
   "version": "3.6.8-final"
  },
  "mimetype": "text/x-python",
  "name": "python",
  "npconvert_exporter": "python",
  "pygments_lexer": "ipython3",
  "version": 3
 },
 "nbformat": 4,
 "nbformat_minor": 4
}